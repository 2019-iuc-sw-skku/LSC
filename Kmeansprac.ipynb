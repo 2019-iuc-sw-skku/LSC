{
 "cells": [
  {
   "cell_type": "code",
   "execution_count": 17,
   "metadata": {},
   "outputs": [],
   "source": [
    "import numpy as np\n",
    "from sklearn.cluster import KMeans\n",
    "from sklearn.metrics import mean_squared_error\n",
    "import matplotlib.pyplot as plt\n",
    "\n",
    "data =  np.loadtxt(fname = 'trace_201708/prep2.csv', delimiter = ',')\n",
    "\n",
    "X = data[:, 0]   "
   ]
  },
  {
   "cell_type": "code",
   "execution_count": 18,
   "metadata": {
    "scrolled": true
   },
   "outputs": [
    {
     "name": "stdout",
     "output_type": "stream",
     "text": [
      "iteration: 3\n",
      "iteration: 4\n",
      "iteration: 5\n",
      "iteration: 6\n",
      "iteration: 7\n",
      "iteration: 8\n",
      "iteration: 9\n",
      "iteration: 10\n",
      "iteration: 11\n",
      "iteration: 12\n",
      "iteration: 13\n",
      "iteration: 14\n",
      "iteration: 15\n",
      "iteration: 16\n",
      "iteration: 17\n",
      "iteration: 18\n",
      "iteration: 19\n"
     ]
    }
   ],
   "source": [
    "sse = []\n",
    "list_k = list(range(3, 20))\n",
    "\n",
    "for k in list_k:\n",
    "    kmeans = KMeans(n_clusters=k, random_state=0).fit(X.reshape(-1, 1))\n",
    "    sse.append(kmeans.inertia_)\n",
    "    print(\"iteration: \" + str(k))\n",
    "    "
   ]
  },
  {
   "cell_type": "code",
   "execution_count": 19,
   "metadata": {},
   "outputs": [
    {
     "data": {
      "text/plain": [
       "Text(0, 0.5, 'Sum of squared distance')"
      ]
     },
     "execution_count": 19,
     "metadata": {},
     "output_type": "execute_result"
    },
    {
     "data": {
      "image/png": "[encoded data removed]",
      "text/plain": [
       "<Figure size 432x432 with 1 Axes>"
      ]
     },
     "metadata": {
      "needs_background": "light"
     },
     "output_type": "display_data"
    }
   ],
   "source": [
    "plt.figure(figsize=(6, 6))\n",
    "plt.plot(list_k, sse, '-o')\n",
    "plt.xlabel(r'Number of clusters *k*')\n",
    "plt.ylabel('Sum of squared distance')"
   ]
  },
  {
   "cell_type": "code",
   "execution_count": 20,
   "metadata": {},
   "outputs": [
    {
     "name": "stdout",
     "output_type": "stream",
     "text": [
      "[3066049182.8733525, 1425444923.8743498, 885593803.6232616, 573048847.8504744, 403685367.16004646, 318728795.5113688, 253832313.57092282, 195951207.77370173, 165364304.48330793, 141451545.72738346, 124251015.61215398, 108940145.0785844, 94308187.11226635, 84055933.19975431, 74991394.80781071, 67221706.25925599, 60053782.80545126]\n"
     ]
    }
   ],
   "source": [
    "print(sse)"
   ]
  },
  {
   "cell_type": "code",
   "execution_count": 21,
   "metadata": {},
   "outputs": [
    {
     "data": {
      "text/plain": [
       "-318728795.51136905"
      ]
     },
     "execution_count": 21,
     "metadata": {},
     "output_type": "execute_result"
    }
   ],
   "source": [
    "kmeans = KMeans(n_clusters=8, random_state=0).fit(X.reshape(-1, 1))\n",
    "kmeans.score(X.reshape(-1,1))"
   ]
  },
  {
   "cell_type": "code",
   "execution_count": 23,
   "metadata": {},
   "outputs": [
    {
     "name": "stdout",
     "output_type": "stream",
     "text": [
      "100000\n",
      "200000\n",
      "300000\n",
      "400000\n",
      "500000\n",
      "600000\n",
      "700000\n",
      "800000\n",
      "900000\n",
      "1000000\n",
      "1100000\n"
     ]
    }
   ],
   "source": [
    "f1 = open(\"trace_201708/prep2.csv\", 'r')\n",
    "f2 = open(\"trace_201708/prep3.csv\", 'w')\n",
    "loop = 0\n",
    "total_time=[0,0,0,0,0,0,0,0]\n",
    "size=[0,0,0,0,0,0,0,0]\n",
    "\n",
    "while True:\n",
    "    loop +=1\n",
    "    if loop % 100000 == 0:  #대략 113만 줄\n",
    "        print(loop)\n",
    "\n",
    "    line = f1.readline()\n",
    "    if not line: break\n",
    "    comp = line.split(\",\")\n",
    "    # time, job, task, machine, avgcpu, avgmem\n",
    "    tm = int(comp[0])\n",
    "\n",
    "\n",
    "    pr = kmeans.predict([[tm]])[0]\n",
    "    size[pr]+=1\n",
    "    total_time[pr]+=int(comp[1])\n",
    "    newline = str(pr) + \",\" + line\n",
    "    f2.write(newline)\n"
   ]
  },
  {
   "cell_type": "code",
   "execution_count": 30,
   "metadata": {},
   "outputs": [
    {
     "name": "stdout",
     "output_type": "stream",
     "text": [
      "i=0\t6223832046\t157618\n",
      "i=1\t1502141113\t38135\n",
      "i=2\t17488844589\t443256\n",
      "i=3\t12551220\t198\n",
      "i=4\t695957557\t17870\n",
      "i=5\t2785595597\t71750\n",
      "i=6\t12182560747\t286023\n",
      "i=7\t4290833269\t118445\n"
     ]
    }
   ],
   "source": [
    "avg_time=[0,0,0,0,0,0,0,0]\n",
    "for i in range(8):\n",
    "    avg_time = total_time[i]/size[i]\n",
    "    #print(\"i = \" + str(i) + \" \" + str(avg_time[i]))\n",
    "    print(\"i=\" + str(i) + \"\\t\" + str(total_time[i]) + \"\\t\" + str(size[i]))\n",
    "f1.close()\n",
    "f2.close()"
   ]
  },
  {
   "cell_type": "code",
   "execution_count": null,
   "metadata": {},
   "outputs": [],
   "source": []
  }
 ],
 "metadata": {
  "kernelspec": {
   "display_name": "Python 3",
   "language": "python",
   "name": "python3"
  },
  "language_info": {
   "codemirror_mode": {
    "name": "ipython",
    "version": 3
   },
   "file_extension": ".py",
   "mimetype": "text/x-python",
   "name": "python",
   "nbconvert_exporter": "python",
   "pygments_lexer": "ipython3",
   "version": "3.7.4"
  }
 },
 "nbformat": 4,
 "nbformat_minor": 2
}
